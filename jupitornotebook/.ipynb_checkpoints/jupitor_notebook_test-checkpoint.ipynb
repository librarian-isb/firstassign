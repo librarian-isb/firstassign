{
 "cells": [
  {
   "cell_type": "markdown",
   "id": "06db87be",
   "metadata": {},
   "source": [
    "# Python ka Chailla with Baba Ammar\n",
    "## How to use Jypitor NoteBook\n",
    "### Basics of Python"
   ]
  },
  {
   "cell_type": "markdown",
   "id": "1acbd9f1",
   "metadata": {},
   "source": [
    "**01-first programme**"
   ]
  },
  {
   "cell_type": "code",
   "execution_count": 1,
   "id": "a651480a",
   "metadata": {},
   "outputs": [
    {
     "name": "stdout",
     "output_type": "stream",
     "text": [
      "5\n",
      "I love you Ammar\n",
      "It is my  frist prog\n"
     ]
    }
   ],
   "source": [
    "print (2+3)\n",
    "print (\"I love you Ammar\")\n",
    "print(\"It is my  frist prog\")"
   ]
  },
  {
   "cell_type": "markdown",
   "id": "3eca9e27",
   "metadata": {},
   "source": [
    "**02-Operators**"
   ]
  },
  {
   "cell_type": "code",
   "execution_count": 2,
   "id": "04d312fe",
   "metadata": {},
   "outputs": [
    {
     "name": "stdout",
     "output_type": "stream",
     "text": [
      "5\n",
      "3\n",
      "1\n",
      "2.5\n",
      "2\n",
      "9\n",
      "2.8\n"
     ]
    }
   ],
   "source": [
    "print (2+3)\n",
    "print (2+1)\n",
    "print (13%2)\n",
    "print(5/2)\n",
    "print(5//2)\n",
    "print(3**2)\n",
    "print (3**2/5+2-1)"
   ]
  },
  {
   "cell_type": "markdown",
   "id": "9877257c",
   "metadata": {},
   "source": [
    "**03-Strings**"
   ]
  },
  {
   "cell_type": "code",
   "execution_count": 3,
   "id": "e3d7eac4",
   "metadata": {},
   "outputs": [
    {
     "name": "stdout",
     "output_type": "stream",
     "text": [
      "We are learning with Ammar\n",
      "Text in single quetes\n",
      "'Print for tripple Quetes'\n"
     ]
    }
   ],
   "source": [
    "print (\"We are learning with Ammar\")\n",
    "print('Text in single quetes')\n",
    "print (\"'Print for tripple Quetes'\")\n"
   ]
  },
  {
   "cell_type": "markdown",
   "id": "ef5fa88e",
   "metadata": {},
   "source": [
    "**04-Comments**"
   ]
  },
  {
   "cell_type": "code",
   "execution_count": 4,
   "id": "245e5ae6",
   "metadata": {},
   "outputs": [
    {
     "name": "stdout",
     "output_type": "stream",
     "text": [
      "We are learning with Ammar\n"
     ]
    }
   ],
   "source": [
    "print (\"We are learning with Ammar\")\n",
    "#print('Text in single quetes')\n",
    "#print (\"'Print for tripple Quetes'\")\n"
   ]
  },
  {
   "cell_type": "markdown",
   "id": "1442fdc0",
   "metadata": {},
   "source": [
    "**05-Variables**"
   ]
  },
  {
   "cell_type": "code",
   "execution_count": 5,
   "id": "2bc738a0",
   "metadata": {},
   "outputs": [
    {
     "name": "stdout",
     "output_type": "stream",
     "text": [
      "5 We are learning with ammmar\n",
      "The type of X variable <class 'int'>\n",
      "mangoes\n",
      "<class 'str'>\n"
     ]
    }
   ],
   "source": [
    "x=2\n",
    "#print (x)\n",
    "y=\"We are learning with ammmar\"\n",
    "x=5\n",
    "print(x,y) # code works fromup to downwards.\n",
    "#Types\n",
    "print(\"The type of X variable\",type(x))\n",
    "#variable should letters, numbers and underscore\n",
    "#Dont start with number\n",
    "#Dont use spaces between\n",
    "# dont use varable\n",
    "#Short and Descriptive variable name shout use\n",
    "# use always lower case letters\n",
    "fruit_backet =\"mangoes\"\n",
    "print (fruit_backet)\n",
    "print (type(fruit_backet))"
   ]
  },
  {
   "cell_type": "markdown",
   "id": "3612bd90",
   "metadata": {},
   "source": [
    "**06-Vari_Input**"
   ]
  },
  {
   "cell_type": "code",
   "execution_count": null,
   "id": "8965116b",
   "metadata": {},
   "outputs": [],
   "source": [
    "#fruit_basket=\"mangoes\"\n",
    "#print(fruit_basket)\n",
    "#input function\n",
    "fruit_basket=input(\"What is your fravourite fruit\")\n",
    "print(fruit_basket)\n",
    "# 2nd stage input function\n",
    "#name=input(\"what is name\")\n",
    "#Greeting=\"Hello\"\n",
    "#print(Greeting,name)\n",
    "# 3rd stage\n",
    "name= input (\"What is your name    \")\n",
    "age= input (\"How old are you  \")\n",
    "Greeting=\"Hello\"\n",
    "print(Greeting, name, age)"
   ]
  },
  {
   "cell_type": "markdown",
   "id": "a1673de2",
   "metadata": {},
   "source": [
    "**07-Conditional Statments**"
   ]
  },
  {
   "cell_type": "code",
   "execution_count": 2,
   "id": "68487297",
   "metadata": {},
   "outputs": [
    {
     "name": "stdout",
     "output_type": "stream",
     "text": [
      "Enter the age of Hammad   18\n",
      "False\n"
     ]
    }
   ],
   "source": [
    "# =   == > < => =<\n",
    "# 4=4 ?\n",
    "#print (4!=4)\n",
    "#print(4>3)\n",
    "#print(3<6)\n",
    "#print(3>6)\n",
    "\n",
    "#logical operaters\n",
    "#hammad_age=4\n",
    "#age_school=4\n",
    "#print(hammad_age==age_school)\n",
    "\n",
    "\n",
    "hammad_age=input(\"Enter the age of Hammad   \")\n",
    "age_school=4\n",
    "print(int(hammad_age)==age_school)\n"
   ]
  },
  {
   "cell_type": "markdown",
   "id": "08061c88",
   "metadata": {},
   "source": [
    "**09-If-else-Statments**"
   ]
  },
  {
   "cell_type": "code",
   "execution_count": null,
   "id": "f798f2c6",
   "metadata": {},
   "outputs": [],
   "source": [
    "required_age =5\n",
    "college_age=18\n",
    "hammad_age=input(\"Enter Hammad Age \")\n",
    "# question can hammad go to school\n",
    "if int(hammad_age)==required_age:\n",
    "    print(\"hammad can go to school\")\n",
    "elif int (hammad_age)<required_age:\n",
    "    print(\"You should care at home\")\n",
    "elif int(hammad_age)>=college_age:\n",
    "    print(\"He should go to College\")\n",
    "\n",
    "else:\n",
    "    print(\"He cannot go to School\")"
   ]
  },
  {
   "cell_type": "markdown",
   "id": "c1e84a75",
   "metadata": {},
   "source": [
    "**10-Functions**"
   ]
  },
  {
   "cell_type": "code",
   "execution_count": null,
   "id": "b0c7f525",
   "metadata": {},
   "outputs": [],
   "source": [
    "\n",
    "#print(\"We are learning with Ammar\")\n",
    "#print(\"We are learning with Ammar\")\n",
    "#from typing import Text\n",
    "\n",
    "\n",
    "#def print_rauf():\n",
    " #   print(\"We are learning with Ammar\")\n",
    " #  print(\"We are learning with Ammar\")\n",
    " #   print(\"We are learning with Ammar\")\n",
    "\n",
    "#print_rauf()\n",
    "\n",
    "#2 method\n",
    "#def print_rauf():\n",
    "#    print(5+3)\n",
    "#    print(8+4)\n",
    "#    xz=\"new text..\"\n",
    "#    print(xz)\n",
    "#    print(xz)\n",
    "#3\n",
    "#def print_rauf(text):\n",
    "#    print(text)\n",
    "#    print(text)\n",
    "#    print(text)\n",
    "#print_rauf(\"This the text\")\n",
    "#4\n",
    "# def school_calculator(age):\n",
    "#     if age==5:\n",
    "#         print(\"Hammad can join the school\")\n",
    "#     elif age>5:\n",
    "#         print (\"Hammad is for HSS\")\n",
    "#     else:\n",
    "#         print(\"He is still a baby\")\n",
    "# school_calculator(10)\n",
    "\n",
    "def future_age(age):\n",
    "    new_age=age+20\n",
    "    return new_age\n",
    "     print (new_age)\n",
    "future_predicted_age=future_age(15)\n",
    "print(future_predicted_age)\n"
   ]
  },
  {
   "cell_type": "markdown",
   "id": "be25a0ec",
   "metadata": {},
   "source": [
    "**11-Loops**"
   ]
  },
  {
   "cell_type": "code",
   "execution_count": null,
   "id": "0ecd9738",
   "metadata": {},
   "outputs": [],
   "source": [
    "#while loops\n",
    "\n",
    "\n",
    "# x=0\n",
    "# while (x<=5):\n",
    "#     print(x)\n",
    "#     x=x+1\n",
    "\n",
    "\n",
    "#for loop\n",
    "# for x in range(5,10):\n",
    "    # print(x)\n",
    "#arraey\n",
    "days=[\"Mon\", \"Tues\", \"Thur\", \"Fri\", \"Sat\", \"Sun\"]\n",
    "\n",
    "for d in days:\n",
    "#   if(d==\"Fri\"):break #loop stops\n",
    "    if(d=='Fri'):continue #loop continue\n",
    "    print(d)\n"
   ]
  },
  {
   "cell_type": "code",
   "execution_count": null,
   "id": "4eff7331",
   "metadata": {},
   "outputs": [],
   "source": [
    "**12-Import-Libraries**"
   ]
  },
  {
   "cell_type": "code",
   "execution_count": null,
   "id": "14315a6c",
   "metadata": {},
   "outputs": [],
   "source": [
    "#print the value of py\n",
    "import math\n",
    "print(\"The value of py\", math.pi)\n",
    "import statistics\n",
    "x=[150,250,350,450]\n",
    "\n",
    "print(statistics.mean(x))\n",
    "print(statistics.mode(x))\n",
    "print(statistics.median(x))\n",
    "\n",
    "#numpy, Panda"
   ]
  }
 ],
 "metadata": {
  "kernelspec": {
   "display_name": "Python 3 (ipykernel)",
   "language": "python",
   "name": "python3"
  },
  "language_info": {
   "codemirror_mode": {
    "name": "ipython",
    "version": 3
   },
   "file_extension": ".py",
   "mimetype": "text/x-python",
   "name": "python",
   "nbconvert_exporter": "python",
   "pygments_lexer": "ipython3",
   "version": "3.9.7"
  }
 },
 "nbformat": 4,
 "nbformat_minor": 5
}
