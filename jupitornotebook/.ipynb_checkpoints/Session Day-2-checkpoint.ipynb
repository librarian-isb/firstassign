{
 "cells": [
  {
   "cell_type": "code",
   "execution_count": null,
   "id": "52f524c7",
   "metadata": {},
   "outputs": [],
   "source": [
    "# function\n",
    "# body mass index calculation\n",
    "# input height\n",
    "#input Weight\n",
    "# Body mass index\n",
    "# print\n",
    "        "
   ]
  },
  {
   "cell_type": "code",
   "execution_count": 8,
   "id": "722afee2",
   "metadata": {},
   "outputs": [
    {
     "name": "stdout",
     "output_type": "stream",
     "text": [
      "What is your Height5\n"
     ]
    },
    {
     "data": {
      "text/plain": [
       "'5'"
      ]
     },
     "execution_count": 8,
     "metadata": {},
     "output_type": "execute_result"
    }
   ],
   "source": [
    "height = input(\"What is your Height\")\n",
    "height"
   ]
  },
  {
   "cell_type": "code",
   "execution_count": 2,
   "id": "2a1564f5",
   "metadata": {},
   "outputs": [
    {
     "name": "stdout",
     "output_type": "stream",
     "text": [
      "What is your Weight90\n"
     ]
    },
    {
     "data": {
      "text/plain": [
       "'90'"
      ]
     },
     "execution_count": 2,
     "metadata": {},
     "output_type": "execute_result"
    }
   ],
   "source": [
    "weight = input (\"What is your Weight \")\n",
    "weight"
   ]
  },
  {
   "cell_type": "code",
   "execution_count": 3,
   "id": "1c990228",
   "metadata": {},
   "outputs": [
    {
     "data": {
      "text/plain": [
       "str"
      ]
     },
     "execution_count": 3,
     "metadata": {},
     "output_type": "execute_result"
    }
   ],
   "source": [
    "type (weight)"
   ]
  },
  {
   "cell_type": "code",
   "execution_count": 10,
   "id": "83ec6ac9",
   "metadata": {},
   "outputs": [
    {
     "data": {
      "text/plain": [
       "'90'"
      ]
     },
     "execution_count": 10,
     "metadata": {},
     "output_type": "execute_result"
    }
   ],
   "source": [
    "weight"
   ]
  },
  {
   "cell_type": "code",
   "execution_count": 13,
   "id": "1cb5a92c",
   "metadata": {},
   "outputs": [
    {
     "data": {
      "text/plain": [
       "5"
      ]
     },
     "execution_count": 13,
     "metadata": {},
     "output_type": "execute_result"
    }
   ],
   "source": [
    "height=int(height)\n",
    "height"
   ]
  },
  {
   "cell_type": "code",
   "execution_count": 14,
   "id": "8e4032a7",
   "metadata": {},
   "outputs": [
    {
     "data": {
      "text/plain": [
       "90"
      ]
     },
     "execution_count": 14,
     "metadata": {},
     "output_type": "execute_result"
    }
   ],
   "source": [
    "weight=int(weight)\n",
    "weight"
   ]
  },
  {
   "cell_type": "code",
   "execution_count": 15,
   "id": "b1b271cd",
   "metadata": {
    "scrolled": false
   },
   "outputs": [
    {
     "data": {
      "text/plain": [
       "3.6"
      ]
     },
     "execution_count": 15,
     "metadata": {},
     "output_type": "execute_result"
    }
   ],
   "source": [
    "bmi = weight/height**2\n",
    "bmi "
   ]
  },
  {
   "cell_type": "code",
   "execution_count": 16,
   "id": "cfbb1b95",
   "metadata": {},
   "outputs": [
    {
     "name": "stdout",
     "output_type": "stream",
     "text": [
      "What is your name Rauf \n"
     ]
    },
    {
     "data": {
      "text/plain": [
       "'Rauf '"
      ]
     },
     "execution_count": 16,
     "metadata": {},
     "output_type": "execute_result"
    }
   ],
   "source": [
    "name = input (\"What is your name \")\n",
    "name "
   ]
  },
  {
   "cell_type": "code",
   "execution_count": 18,
   "id": "a3e3144a",
   "metadata": {},
   "outputs": [
    {
     "ename": "SyntaxError",
     "evalue": "invalid syntax (Temp/ipykernel_10636/2534102357.py, line 1)",
     "output_type": "error",
     "traceback": [
      "\u001b[1;36m  File \u001b[1;32m\"C:\\Users\\Sabeeh\\AppData\\Local\\Temp/ipykernel_10636/2534102357.py\"\u001b[1;36m, line \u001b[1;32m1\u001b[0m\n\u001b[1;33m    print(\"My name\" name \"and My BMI is  \")\u001b[0m\n\u001b[1;37m                    ^\u001b[0m\n\u001b[1;31mSyntaxError\u001b[0m\u001b[1;31m:\u001b[0m invalid syntax\n"
     ]
    }
   ],
   "source": [
    "print(\"My name\" name \"and My BMI is  \")"
   ]
  },
  {
   "cell_type": "code",
   "execution_count": null,
   "id": "b0ec188b",
   "metadata": {},
   "outputs": [],
   "source": []
  }
 ],
 "metadata": {
  "kernelspec": {
   "display_name": "Python 3 (ipykernel)",
   "language": "python",
   "name": "python3"
  },
  "language_info": {
   "codemirror_mode": {
    "name": "ipython",
    "version": 3
   },
   "file_extension": ".py",
   "mimetype": "text/x-python",
   "name": "python",
   "nbconvert_exporter": "python",
   "pygments_lexer": "ipython3",
   "version": "3.9.7"
  }
 },
 "nbformat": 4,
 "nbformat_minor": 5
}
