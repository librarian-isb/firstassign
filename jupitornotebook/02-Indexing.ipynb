{
 "cells": [
  {
   "cell_type": "markdown",
   "id": "51065b7b",
   "metadata": {},
   "source": [
    "# 02-Indexing and data structure"
   ]
  },
  {
   "cell_type": "code",
   "execution_count": 8,
   "id": "a629580f",
   "metadata": {},
   "outputs": [],
   "source": [
    "# make string\n",
    "a =\"Samosa Pakora\""
   ]
  },
  {
   "cell_type": "code",
   "execution_count": 9,
   "id": "5c88a233",
   "metadata": {},
   "outputs": [
    {
     "data": {
      "text/plain": [
       "'Samosa Pakora'"
      ]
     },
     "execution_count": 9,
     "metadata": {},
     "output_type": "execute_result"
    }
   ],
   "source": [
    "a"
   ]
  },
  {
   "cell_type": "code",
   "execution_count": 17,
   "id": "4bcb1af8",
   "metadata": {},
   "outputs": [
    {
     "data": {
      "text/plain": [
       "13"
      ]
     },
     "execution_count": 17,
     "metadata": {},
     "output_type": "execute_result"
    }
   ],
   "source": [
    "#length of string\n",
    "len(a)"
   ]
  },
  {
   "cell_type": "code",
   "execution_count": 12,
   "id": "da1a8b90",
   "metadata": {},
   "outputs": [
    {
     "data": {
      "text/plain": [
       "'S'"
      ]
     },
     "execution_count": 12,
     "metadata": {},
     "output_type": "execute_result"
    }
   ],
   "source": [
    "a[0]"
   ]
  },
  {
   "cell_type": "code",
   "execution_count": 13,
   "id": "9998086f",
   "metadata": {},
   "outputs": [
    {
     "data": {
      "text/plain": [
       "'a'"
      ]
     },
     "execution_count": 13,
     "metadata": {},
     "output_type": "execute_result"
    }
   ],
   "source": [
    "a[1]"
   ]
  },
  {
   "cell_type": "code",
   "execution_count": 14,
   "id": "af0e7f6a",
   "metadata": {},
   "outputs": [
    {
     "data": {
      "text/plain": [
       "'o'"
      ]
     },
     "execution_count": 14,
     "metadata": {},
     "output_type": "execute_result"
    }
   ],
   "source": [
    "a[3]"
   ]
  },
  {
   "cell_type": "code",
   "execution_count": 15,
   "id": "ed1fbce9",
   "metadata": {},
   "outputs": [
    {
     "data": {
      "text/plain": [
       "'s'"
      ]
     },
     "execution_count": 15,
     "metadata": {},
     "output_type": "execute_result"
    }
   ],
   "source": [
    "a[4]"
   ]
  },
  {
   "cell_type": "code",
   "execution_count": 22,
   "id": "f3533301",
   "metadata": {},
   "outputs": [
    {
     "data": {
      "text/plain": [
       "'Samosa Pakora'"
      ]
     },
     "execution_count": 22,
     "metadata": {},
     "output_type": "execute_result"
    }
   ],
   "source": [
    "#rang of character\n",
    "a[0:13]"
   ]
  },
  {
   "cell_type": "code",
   "execution_count": 23,
   "id": "7287c164",
   "metadata": {},
   "outputs": [
    {
     "data": {
      "text/plain": [
       "'P'"
      ]
     },
     "execution_count": 23,
     "metadata": {},
     "output_type": "execute_result"
    }
   ],
   "source": [
    "a[-6]"
   ]
  },
  {
   "cell_type": "code",
   "execution_count": 41,
   "id": "051d0aa4",
   "metadata": {},
   "outputs": [
    {
     "data": {
      "text/plain": [
       "'Pakora'"
      ]
     },
     "execution_count": 41,
     "metadata": {},
     "output_type": "execute_result"
    }
   ],
   "source": [
    "a[-6:]"
   ]
  },
  {
   "cell_type": "code",
   "execution_count": 46,
   "id": "fa08c77a",
   "metadata": {},
   "outputs": [
    {
     "data": {
      "text/plain": [
       "'Samosa '"
      ]
     },
     "execution_count": 46,
     "metadata": {},
     "output_type": "execute_result"
    }
   ],
   "source": [
    "a[-13:-6]"
   ]
  },
  {
   "cell_type": "code",
   "execution_count": 47,
   "id": "30d740f0",
   "metadata": {},
   "outputs": [
    {
     "data": {
      "text/plain": [
       "' Pakora'"
      ]
     },
     "execution_count": 47,
     "metadata": {},
     "output_type": "execute_result"
    }
   ],
   "source": [
    "a[6:13]"
   ]
  },
  {
   "cell_type": "markdown",
   "id": "64a6f82e",
   "metadata": {},
   "source": [
    "# String methods\n"
   ]
  },
  {
   "cell_type": "code",
   "execution_count": 49,
   "id": "6f5825e5",
   "metadata": {},
   "outputs": [],
   "source": [
    "food = \"biryani\"\n"
   ]
  },
  {
   "cell_type": "code",
   "execution_count": 50,
   "id": "3cc669ad",
   "metadata": {},
   "outputs": [
    {
     "data": {
      "text/plain": [
       "'biryani'"
      ]
     },
     "execution_count": 50,
     "metadata": {},
     "output_type": "execute_result"
    }
   ],
   "source": [
    "food"
   ]
  },
  {
   "cell_type": "code",
   "execution_count": 51,
   "id": "b0703ddc",
   "metadata": {},
   "outputs": [
    {
     "data": {
      "text/plain": [
       "7"
      ]
     },
     "execution_count": 51,
     "metadata": {},
     "output_type": "execute_result"
    }
   ],
   "source": [
    "len(food)"
   ]
  },
  {
   "cell_type": "code",
   "execution_count": 53,
   "id": "97ec2bc2",
   "metadata": {},
   "outputs": [
    {
     "data": {
      "text/plain": [
       "'Biryani'"
      ]
     },
     "execution_count": 53,
     "metadata": {},
     "output_type": "execute_result"
    }
   ],
   "source": [
    "food.capitalize ()"
   ]
  },
  {
   "cell_type": "code",
   "execution_count": 54,
   "id": "77abcdb3",
   "metadata": {},
   "outputs": [
    {
     "data": {
      "text/plain": [
       "'BIRYANI'"
      ]
     },
     "execution_count": 54,
     "metadata": {},
     "output_type": "execute_result"
    }
   ],
   "source": [
    "food.upper()"
   ]
  },
  {
   "cell_type": "code",
   "execution_count": 55,
   "id": "8b188144",
   "metadata": {},
   "outputs": [
    {
     "data": {
      "text/plain": [
       "'biryani'"
      ]
     },
     "execution_count": 55,
     "metadata": {},
     "output_type": "execute_result"
    }
   ],
   "source": [
    "food.lower()"
   ]
  },
  {
   "cell_type": "code",
   "execution_count": 56,
   "id": "2e10ff32",
   "metadata": {},
   "outputs": [
    {
     "data": {
      "text/plain": [
       "'siryani'"
      ]
     },
     "execution_count": 56,
     "metadata": {},
     "output_type": "execute_result"
    }
   ],
   "source": [
    "food.replace(\"b\",\"s\")"
   ]
  },
  {
   "cell_type": "code",
   "execution_count": 59,
   "id": "27d2eebd",
   "metadata": {},
   "outputs": [
    {
     "data": {
      "text/plain": [
       "'baba_ammar with Dr Ammar Tufail'"
      ]
     },
     "execution_count": 59,
     "metadata": {},
     "output_type": "execute_result"
    }
   ],
   "source": [
    "name = \"baba_ammar with Dr Ammar Tufail\"\n",
    "name"
   ]
  },
  {
   "cell_type": "code",
   "execution_count": null,
   "id": "790406f5",
   "metadata": {},
   "outputs": [],
   "source": [
    "#Count  and index Charachters in a string"
   ]
  },
  {
   "cell_type": "code",
   "execution_count": 63,
   "id": "c53ba43b",
   "metadata": {},
   "outputs": [
    {
     "data": {
      "text/plain": [
       "6"
      ]
     },
     "execution_count": 63,
     "metadata": {},
     "output_type": "execute_result"
    }
   ],
   "source": [
    "name.count(\"a\")"
   ]
  },
  {
   "cell_type": "code",
   "execution_count": 64,
   "id": "a1e886ab",
   "metadata": {},
   "outputs": [
    {
     "data": {
      "text/plain": [
       "2"
      ]
     },
     "execution_count": 64,
     "metadata": {},
     "output_type": "execute_result"
    }
   ],
   "source": [
    "name.count(\"b\")"
   ]
  },
  {
   "cell_type": "code",
   "execution_count": 66,
   "id": "59f3e7d0",
   "metadata": {},
   "outputs": [
    {
     "data": {
      "text/plain": [
       "1"
      ]
     },
     "execution_count": 66,
     "metadata": {},
     "output_type": "execute_result"
    }
   ],
   "source": [
    "name.count(\"D\")"
   ]
  },
  {
   "cell_type": "markdown",
   "id": "b6d3c19f",
   "metadata": {},
   "source": [
    "# Finding  charater number in string"
   ]
  },
  {
   "cell_type": "code",
   "execution_count": 67,
   "id": "7a56a921",
   "metadata": {},
   "outputs": [
    {
     "data": {
      "text/plain": [
       "6"
      ]
     },
     "execution_count": 67,
     "metadata": {},
     "output_type": "execute_result"
    }
   ],
   "source": [
    "name.find(\"mm\")"
   ]
  },
  {
   "cell_type": "code",
   "execution_count": 68,
   "id": "ed3d5e7c",
   "metadata": {},
   "outputs": [
    {
     "data": {
      "text/plain": [
       "16"
      ]
     },
     "execution_count": 68,
     "metadata": {},
     "output_type": "execute_result"
    }
   ],
   "source": [
    "name.find(\"Dr\")"
   ]
  },
  {
   "cell_type": "code",
   "execution_count": 69,
   "id": "2b3c53e8",
   "metadata": {},
   "outputs": [
    {
     "data": {
      "text/plain": [
       "31"
      ]
     },
     "execution_count": 69,
     "metadata": {},
     "output_type": "execute_result"
    }
   ],
   "source": [
    "len(name)"
   ]
  },
  {
   "cell_type": "markdown",
   "id": "315e979e",
   "metadata": {},
   "source": [
    "# How to Split a string"
   ]
  },
  {
   "cell_type": "code",
   "execution_count": 70,
   "id": "c854ccbf",
   "metadata": {},
   "outputs": [],
   "source": [
    "food = \"I love Samosa, Pakora, biryani and Karahi\""
   ]
  },
  {
   "cell_type": "code",
   "execution_count": 71,
   "id": "ea41a51a",
   "metadata": {},
   "outputs": [
    {
     "data": {
      "text/plain": [
       "'I love Samosa, Pakora, biryani and Karahi'"
      ]
     },
     "execution_count": 71,
     "metadata": {},
     "output_type": "execute_result"
    }
   ],
   "source": [
    "food"
   ]
  },
  {
   "cell_type": "code",
   "execution_count": 72,
   "id": "608a40f2",
   "metadata": {},
   "outputs": [
    {
     "data": {
      "text/plain": [
       "['I love Samosa', ' Pakora', ' biryani and Karahi']"
      ]
     },
     "execution_count": 72,
     "metadata": {},
     "output_type": "execute_result"
    }
   ],
   "source": [
    "food.split(\",\")"
   ]
  },
  {
   "cell_type": "markdown",
   "id": "1de6b22e",
   "metadata": {},
   "source": [
    "# Basic Data Structure in Pythons"
   ]
  },
  {
   "cell_type": "markdown",
   "id": "36c9dd9d",
   "metadata": {},
   "source": [
    "## 1- Tuple\n",
    "- Order collection enclosed in ()\n",
    "- Different kinds of elements. e.g interger, boolean operaters, flot, elements\n",
    "- Once elements are stored cannot change (unmutaable)\n"
   ]
  },
  {
   "cell_type": "code",
   "execution_count": 2,
   "id": "451cb8d6",
   "metadata": {},
   "outputs": [
    {
     "data": {
      "text/plain": [
       "(1, 'Python', True, 2.5)"
      ]
     },
     "execution_count": 2,
     "metadata": {},
     "output_type": "execute_result"
    }
   ],
   "source": [
    "tup1 =(1,\"Python\", True, 2.5)\n",
    "tup1"
   ]
  },
  {
   "cell_type": "code",
   "execution_count": 4,
   "id": "d274b370",
   "metadata": {},
   "outputs": [
    {
     "data": {
      "text/plain": [
       "tuple"
      ]
     },
     "execution_count": 4,
     "metadata": {},
     "output_type": "execute_result"
    }
   ],
   "source": [
    "type(tup1)"
   ]
  },
  {
   "cell_type": "markdown",
   "id": "2dcbd475",
   "metadata": {},
   "source": [
    "# Indexing in tuple"
   ]
  },
  {
   "cell_type": "code",
   "execution_count": 8,
   "id": "a0b61d19",
   "metadata": {},
   "outputs": [
    {
     "data": {
      "text/plain": [
       "(1, 'Python', True, 2.5)"
      ]
     },
     "execution_count": 8,
     "metadata": {},
     "output_type": "execute_result"
    }
   ],
   "source": [
    "tup1"
   ]
  },
  {
   "cell_type": "code",
   "execution_count": 10,
   "id": "8b055250",
   "metadata": {},
   "outputs": [
    {
     "data": {
      "text/plain": [
       "'Python'"
      ]
     },
     "execution_count": 10,
     "metadata": {},
     "output_type": "execute_result"
    }
   ],
   "source": [
    "tup1[1]"
   ]
  },
  {
   "cell_type": "code",
   "execution_count": 11,
   "id": "27fe3e47",
   "metadata": {},
   "outputs": [
    {
     "data": {
      "text/plain": [
       "True"
      ]
     },
     "execution_count": 11,
     "metadata": {},
     "output_type": "execute_result"
    }
   ],
   "source": [
    "tup1[2]"
   ]
  },
  {
   "cell_type": "code",
   "execution_count": 12,
   "id": "4e99bc54",
   "metadata": {},
   "outputs": [
    {
     "data": {
      "text/plain": [
       "2.5"
      ]
     },
     "execution_count": 12,
     "metadata": {},
     "output_type": "execute_result"
    }
   ],
   "source": [
    "tup1[3]"
   ]
  },
  {
   "cell_type": "code",
   "execution_count": 14,
   "id": "5911db66",
   "metadata": {},
   "outputs": [
    {
     "data": {
      "text/plain": [
       "1"
      ]
     },
     "execution_count": 14,
     "metadata": {},
     "output_type": "execute_result"
    }
   ],
   "source": [
    "tup1[0]"
   ]
  },
  {
   "cell_type": "code",
   "execution_count": 15,
   "id": "d649314e",
   "metadata": {},
   "outputs": [
    {
     "data": {
      "text/plain": [
       "4"
      ]
     },
     "execution_count": 15,
     "metadata": {},
     "output_type": "execute_result"
    }
   ],
   "source": [
    "#lenth of Tuple\n",
    "len(tup1)"
   ]
  },
  {
   "cell_type": "code",
   "execution_count": 19,
   "id": "ece1e535",
   "metadata": {},
   "outputs": [
    {
     "data": {
      "text/plain": [
       "(2, 'Ammar', False, 2.25)"
      ]
     },
     "execution_count": 19,
     "metadata": {},
     "output_type": "execute_result"
    }
   ],
   "source": [
    "tup2 = (2, \"Ammar\", False, 2.25)\n",
    "tup2"
   ]
  },
  {
   "cell_type": "code",
   "execution_count": 20,
   "id": "0d1afdcd",
   "metadata": {},
   "outputs": [
    {
     "data": {
      "text/plain": [
       "(1, 'Python', True, 2.5, 2, 'Ammar', False, 2.25)"
      ]
     },
     "execution_count": 20,
     "metadata": {},
     "output_type": "execute_result"
    }
   ],
   "source": [
    "#join or concatinate tuple\n",
    "tup1+tup2"
   ]
  },
  {
   "cell_type": "code",
   "execution_count": 21,
   "id": "76fcbe3a",
   "metadata": {},
   "outputs": [
    {
     "data": {
      "text/plain": [
       "(1, 'Python', True, 2.5, 1, 'Python', True, 2.5, 1, 'Python', True, 2.5)"
      ]
     },
     "execution_count": 21,
     "metadata": {},
     "output_type": "execute_result"
    }
   ],
   "source": [
    "#Repitition\n",
    "tup1*2+tup1"
   ]
  },
  {
   "cell_type": "code",
   "execution_count": 22,
   "id": "bb950ab2",
   "metadata": {},
   "outputs": [
    {
     "data": {
      "text/plain": [
       "(25, 10, 20, 45, 65, 70)"
      ]
     },
     "execution_count": 22,
     "metadata": {},
     "output_type": "execute_result"
    }
   ],
   "source": [
    "tup3 =(25,10,20,45,65,70)\n",
    "tup3"
   ]
  },
  {
   "cell_type": "code",
   "execution_count": 23,
   "id": "0ff35e6f",
   "metadata": {},
   "outputs": [
    {
     "data": {
      "text/plain": [
       "10"
      ]
     },
     "execution_count": 23,
     "metadata": {},
     "output_type": "execute_result"
    }
   ],
   "source": [
    "min (tup3)"
   ]
  },
  {
   "cell_type": "markdown",
   "id": "4375e1e7",
   "metadata": {},
   "source": [
    "max(tup3)"
   ]
  },
  {
   "cell_type": "code",
   "execution_count": 29,
   "id": "f0ea7dff",
   "metadata": {},
   "outputs": [
    {
     "data": {
      "text/plain": [
       "(25, 10, 20, 45, 65, 70, 25, 10, 20, 45, 65, 70)"
      ]
     },
     "execution_count": 29,
     "metadata": {},
     "output_type": "execute_result"
    }
   ],
   "source": [
    "tup3*2"
   ]
  },
  {
   "cell_type": "code",
   "execution_count": 31,
   "id": "cf130013",
   "metadata": {},
   "outputs": [
    {
     "data": {
      "text/plain": [
       "(1, 'Python', True, 2.5, 2, 'Ammar', False, 2.25, 25, 10, 20, 45, 65, 70)"
      ]
     },
     "execution_count": 31,
     "metadata": {},
     "output_type": "execute_result"
    }
   ],
   "source": [
    "tup1+tup2+tup3\n"
   ]
  },
  {
   "cell_type": "markdown",
   "id": "be858b16",
   "metadata": {},
   "source": [
    "---"
   ]
  },
  {
   "cell_type": "markdown",
   "id": "06445800",
   "metadata": {},
   "source": [
    "## List\n",
    "- Ordered Collection of Elements\n",
    "- Encloded in {} brackets\n",
    "- Mutable"
   ]
  },
  {
   "cell_type": "code",
   "execution_count": 37,
   "id": "98b7644a",
   "metadata": {},
   "outputs": [
    {
     "data": {
      "text/plain": [
       "[3, 'Ammar', False, 2.0]"
      ]
     },
     "execution_count": 37,
     "metadata": {},
     "output_type": "execute_result"
    }
   ],
   "source": [
    "list1 =[3, 'Ammar', False, 2.0]\n",
    "list1"
   ]
  },
  {
   "cell_type": "code",
   "execution_count": 35,
   "id": "df7e25ae",
   "metadata": {},
   "outputs": [
    {
     "data": {
      "text/plain": [
       "4"
      ]
     },
     "execution_count": 35,
     "metadata": {},
     "output_type": "execute_result"
    }
   ],
   "source": [
    "len (list1)"
   ]
  },
  {
   "cell_type": "code",
   "execution_count": 41,
   "id": "46878409",
   "metadata": {},
   "outputs": [
    {
     "data": {
      "text/plain": [
       "'Ammar'"
      ]
     },
     "execution_count": 41,
     "metadata": {},
     "output_type": "execute_result"
    }
   ],
   "source": [
    "list1 [1]"
   ]
  },
  {
   "cell_type": "code",
   "execution_count": 42,
   "id": "357ae332",
   "metadata": {},
   "outputs": [
    {
     "data": {
      "text/plain": [
       "2.0"
      ]
     },
     "execution_count": 42,
     "metadata": {},
     "output_type": "execute_result"
    }
   ],
   "source": [
    "list1 [3]"
   ]
  },
  {
   "cell_type": "code",
   "execution_count": 49,
   "id": "af50387b",
   "metadata": {},
   "outputs": [
    {
     "data": {
      "text/plain": [
       "[4, 'rauf', True, 40]"
      ]
     },
     "execution_count": 49,
     "metadata": {},
     "output_type": "execute_result"
    }
   ],
   "source": [
    "list2 = [4, \"rauf\", True, 40]\n",
    "list2"
   ]
  },
  {
   "cell_type": "code",
   "execution_count": 53,
   "id": "2380821d",
   "metadata": {},
   "outputs": [
    {
     "data": {
      "text/plain": [
       "[4, 'rauf', True, 40]"
      ]
     },
     "execution_count": 53,
     "metadata": {},
     "output_type": "execute_result"
    }
   ],
   "source": [
    "list2.reverse()\n",
    "list2"
   ]
  },
  {
   "cell_type": "code",
   "execution_count": 55,
   "id": "e2dd6887",
   "metadata": {},
   "outputs": [
    {
     "data": {
      "text/plain": [
       "[4, 'rauf', True, 40, 'new Value', 'new Value']"
      ]
     },
     "execution_count": 55,
     "metadata": {},
     "output_type": "execute_result"
    }
   ],
   "source": [
    "#append\n",
    "list2.append(\"new Value\")\n",
    "list2"
   ]
  },
  {
   "cell_type": "code",
   "execution_count": 57,
   "id": "2e7381b3",
   "metadata": {},
   "outputs": [
    {
     "data": {
      "text/plain": [
       "[4, 'rauf', True, 40, 'new Value', 'new Value']"
      ]
     },
     "execution_count": 57,
     "metadata": {},
     "output_type": "execute_result"
    }
   ],
   "source": [
    "#copy\n",
    "list2.copy()\n",
    "list2"
   ]
  },
  {
   "cell_type": "code",
   "execution_count": 63,
   "id": "f9b68f9e",
   "metadata": {},
   "outputs": [
    {
     "data": {
      "text/plain": [
       "[3,\n",
       " 'Ammar',\n",
       " False,\n",
       " 2.0,\n",
       " 4,\n",
       " 'rauf',\n",
       " True,\n",
       " 40,\n",
       " 'new Value',\n",
       " 'new Value',\n",
       " 4,\n",
       " 'rauf',\n",
       " True,\n",
       " 40,\n",
       " 'new Value',\n",
       " 'new Value']"
      ]
     },
     "execution_count": 63,
     "metadata": {},
     "output_type": "execute_result"
    }
   ],
   "source": [
    "list1.extend(list2)\n",
    "list1"
   ]
  },
  {
   "cell_type": "code",
   "execution_count": 64,
   "id": "8fb560a3",
   "metadata": {},
   "outputs": [
    {
     "data": {
      "text/plain": [
       "[4, 'rauf', True, 40, 'new Value', 'new Value']"
      ]
     },
     "execution_count": 64,
     "metadata": {},
     "output_type": "execute_result"
    }
   ],
   "source": [
    "list2\n"
   ]
  },
  {
   "cell_type": "code",
   "execution_count": 66,
   "id": "1f315310",
   "metadata": {},
   "outputs": [
    {
     "data": {
      "text/plain": [
       "3"
      ]
     },
     "execution_count": 66,
     "metadata": {},
     "output_type": "execute_result"
    }
   ],
   "source": [
    "list2.index(40)"
   ]
  },
  {
   "cell_type": "code",
   "execution_count": 68,
   "id": "a34cc800",
   "metadata": {},
   "outputs": [
    {
     "data": {
      "text/plain": [
       "[4, 'rauf', True, 40, 'change Value', 'new Value', 'new Value', 'new Value']"
      ]
     },
     "execution_count": 68,
     "metadata": {},
     "output_type": "execute_result"
    }
   ],
   "source": [
    "list2.insert(4,\"change Value\")\n",
    "list2"
   ]
  },
  {
   "cell_type": "code",
   "execution_count": 70,
   "id": "b767085e",
   "metadata": {},
   "outputs": [
    {
     "data": {
      "text/plain": [
       "[4, 'rauf', True, 40, 'change Value', 'new Value']"
      ]
     },
     "execution_count": 70,
     "metadata": {},
     "output_type": "execute_result"
    }
   ],
   "source": [
    "list2.pop(5)\n",
    "list2"
   ]
  },
  {
   "cell_type": "code",
   "execution_count": 72,
   "id": "c1fbe537",
   "metadata": {},
   "outputs": [
    {
     "data": {
      "text/plain": [
       "[4, 'rauf', True, 40, 'change Value']"
      ]
     },
     "execution_count": 72,
     "metadata": {},
     "output_type": "execute_result"
    }
   ],
   "source": [
    "list2.remove(\"new Value\")\n",
    "list2"
   ]
  },
  {
   "cell_type": "code",
   "execution_count": 76,
   "id": "ee829bd4",
   "metadata": {},
   "outputs": [
    {
     "data": {
      "text/plain": [
       "[40, 20, 90, 10]"
      ]
     },
     "execution_count": 76,
     "metadata": {},
     "output_type": "execute_result"
    }
   ],
   "source": [
    "list3 = [40, 20, 90,10]\n",
    "list3\n"
   ]
  },
  {
   "cell_type": "code",
   "execution_count": 77,
   "id": "e0403a52",
   "metadata": {},
   "outputs": [
    {
     "data": {
      "text/plain": [
       "[10, 20, 40, 90]"
      ]
     },
     "execution_count": 77,
     "metadata": {},
     "output_type": "execute_result"
    }
   ],
   "source": [
    "list3.sort()\n",
    "list3"
   ]
  },
  {
   "cell_type": "code",
   "execution_count": 78,
   "id": "f8c865af",
   "metadata": {},
   "outputs": [
    {
     "data": {
      "text/plain": [
       "['I', 'Love', 'Baba', 'G']"
      ]
     },
     "execution_count": 78,
     "metadata": {},
     "output_type": "execute_result"
    }
   ],
   "source": [
    "list4 = [\"I\", \"Love\", \"Baba\", \"G\"]\n",
    "list4"
   ]
  },
  {
   "cell_type": "code",
   "execution_count": 79,
   "id": "1a993d3b",
   "metadata": {},
   "outputs": [
    {
     "data": {
      "text/plain": [
       "['Baba', 'G', 'I', 'Love']"
      ]
     },
     "execution_count": 79,
     "metadata": {},
     "output_type": "execute_result"
    }
   ],
   "source": [
    "list4.sort()\n",
    "list4"
   ]
  },
  {
   "cell_type": "markdown",
   "id": "49cc32b3",
   "metadata": {},
   "source": [
    "## Dictionaries\n",
    "- Unorded collection : key and value\n",
    "- {} are used\n",
    "- Mutatable"
   ]
  },
  {
   "cell_type": "code",
   "execution_count": 80,
   "id": "743cc254",
   "metadata": {},
   "outputs": [
    {
     "data": {
      "text/plain": [
       "{'samosa': 20, 'Pakora': 100, 'Raita': 30, 'Salad': 50, 'Chicken Roll': 40}"
      ]
     },
     "execution_count": 80,
     "metadata": {},
     "output_type": "execute_result"
    }
   ],
   "source": [
    "#food and their prices\n",
    "food1={\"samosa\":20, \"Pakora\":100, \"Raita\":30, \"Salad\":50, \"Chicken Roll\": 40}\n",
    "food1"
   ]
  },
  {
   "cell_type": "code",
   "execution_count": 81,
   "id": "2d9a4836",
   "metadata": {},
   "outputs": [
    {
     "data": {
      "text/plain": [
       "dict"
      ]
     },
     "execution_count": 81,
     "metadata": {},
     "output_type": "execute_result"
    }
   ],
   "source": [
    "type(food1)"
   ]
  },
  {
   "cell_type": "code",
   "execution_count": 86,
   "id": "7e0cd8ce",
   "metadata": {},
   "outputs": [
    {
     "data": {
      "text/plain": [
       "dict_keys(['samosa', 'Pakora', 'Raita', 'Salad', 'Chicken Roll'])"
      ]
     },
     "execution_count": 86,
     "metadata": {},
     "output_type": "execute_result"
    }
   ],
   "source": [
    "#extract data\n",
    "keys1=food1.keys()\n",
    "keys1"
   ]
  },
  {
   "cell_type": "code",
   "execution_count": 85,
   "id": "e1152053",
   "metadata": {},
   "outputs": [
    {
     "data": {
      "text/plain": [
       "dict_values([20, 100, 30, 50, 40])"
      ]
     },
     "execution_count": 85,
     "metadata": {},
     "output_type": "execute_result"
    }
   ],
   "source": [
    "values1=food1.values()\n",
    "values1"
   ]
  },
  {
   "cell_type": "code",
   "execution_count": 93,
   "id": "0d632184",
   "metadata": {},
   "outputs": [
    {
     "data": {
      "text/plain": [
       "{'samosa': 20,\n",
       " 'Pakora': 100,\n",
       " 'Raita': 30,\n",
       " 'Salad': 50,\n",
       " 'Chicken Roll': 40,\n",
       " 'tikki': 10}"
      ]
     },
     "execution_count": 93,
     "metadata": {},
     "output_type": "execute_result"
    }
   ],
   "source": [
    "food1.update({\"tikki\": 10})\n",
    "food1"
   ]
  },
  {
   "cell_type": "code",
   "execution_count": 94,
   "id": "00cc6768",
   "metadata": {},
   "outputs": [
    {
     "data": {
      "text/plain": [
       "{'samosa': 20,\n",
       " 'Pakora': 100,\n",
       " 'Raita': 40,\n",
       " 'Salad': 50,\n",
       " 'Chicken Roll': 40,\n",
       " 'tikki': 10}"
      ]
     },
     "execution_count": 94,
     "metadata": {},
     "output_type": "execute_result"
    }
   ],
   "source": [
    "food1.update({\"Raita\":40})\n",
    "food1"
   ]
  },
  {
   "cell_type": "code",
   "execution_count": 96,
   "id": "a70a5257",
   "metadata": {},
   "outputs": [
    {
     "data": {
      "text/plain": [
       "{'Dates': 250, 'Cholates': 50, 'Sawayian': 100}"
      ]
     },
     "execution_count": 96,
     "metadata": {},
     "output_type": "execute_result"
    }
   ],
   "source": [
    "food2 = {\"Dates\":250, \"Cholates\": 50, \"Sawayian\": 100}\n",
    "food2"
   ]
  },
  {
   "cell_type": "code",
   "execution_count": 97,
   "id": "394d11a4",
   "metadata": {},
   "outputs": [
    {
     "data": {
      "text/plain": [
       "{'samosa': 20,\n",
       " 'Pakora': 100,\n",
       " 'Raita': 40,\n",
       " 'Salad': 50,\n",
       " 'Chicken Roll': 40,\n",
       " 'tikki': 10,\n",
       " 'Dates': 250,\n",
       " 'Cholates': 50,\n",
       " 'Sawayian': 100}"
      ]
     },
     "execution_count": 97,
     "metadata": {},
     "output_type": "execute_result"
    }
   ],
   "source": [
    "#concatnate\n",
    "food1.update(food2)\n",
    "food1"
   ]
  },
  {
   "cell_type": "code",
   "execution_count": null,
   "id": "e4619de4",
   "metadata": {},
   "outputs": [],
   "source": [
    "##Sets\n",
    "-  Unordered and unindexed\n",
    "- Used with {} brackets\n",
    "- no duplicate\n"
   ]
  },
  {
   "cell_type": "code",
   "execution_count": 98,
   "id": "01119571",
   "metadata": {},
   "outputs": [
    {
     "data": {
      "text/plain": [
       "{1, 2.5, 3.1, 'Ammar', 'Condanics'}"
      ]
     },
     "execution_count": 98,
     "metadata": {},
     "output_type": "execute_result"
    }
   ],
   "source": [
    "s1 = {1,2.5, \"Condanics\", \"Ammar\",3.1}\n",
    "s1"
   ]
  },
  {
   "cell_type": "code",
   "execution_count": 100,
   "id": "68cab1c1",
   "metadata": {},
   "outputs": [
    {
     "data": {
      "text/plain": [
       "{1, 2.5, 3.1, 'Ammar', 'Ammar1', 'Condanics'}"
      ]
     },
     "execution_count": 100,
     "metadata": {},
     "output_type": "execute_result"
    }
   ],
   "source": [
    "s1.add(\"Ammar1\")\n",
    "s1"
   ]
  },
  {
   "cell_type": "code",
   "execution_count": 101,
   "id": "2030c525",
   "metadata": {
    "scrolled": true
   },
   "outputs": [
    {
     "data": {
      "text/plain": [
       "{1, 2.5, 3.1, 'Ammar', 'Condanics'}"
      ]
     },
     "execution_count": 101,
     "metadata": {},
     "output_type": "execute_result"
    }
   ],
   "source": [
    "s1.remove(\"Ammar1\")\n",
    "s1"
   ]
  },
  {
   "cell_type": "code",
   "execution_count": 104,
   "id": "e44b17f0",
   "metadata": {},
   "outputs": [
    {
     "data": {
      "text/plain": [
       "{1, 2.5, 3.1, 'Ammar', 'Condanics'}"
      ]
     },
     "execution_count": 104,
     "metadata": {},
     "output_type": "execute_result"
    }
   ],
   "source": [
    "sets1= s1.copy()\n",
    "sets1"
   ]
  },
  {
   "cell_type": "code",
   "execution_count": 105,
   "id": "b827da4e",
   "metadata": {},
   "outputs": [
    {
     "data": {
      "text/plain": [
       "{1, 2.5, 3.1, 'Ammar'}"
      ]
     },
     "execution_count": 105,
     "metadata": {},
     "output_type": "execute_result"
    }
   ],
   "source": [
    "s2={1, 2.5, 3.1, 'Ammar'}\n",
    "s2"
   ]
  },
  {
   "cell_type": "code",
   "execution_count": 108,
   "id": "8d778e8a",
   "metadata": {},
   "outputs": [
    {
     "data": {
      "text/plain": [
       "{'Condanics'}"
      ]
     },
     "execution_count": 108,
     "metadata": {},
     "output_type": "execute_result"
    }
   ],
   "source": [
    "#compare two sets\n",
    "dif1 = s1.difference(s2)\n",
    "dif1"
   ]
  },
  {
   "cell_type": "code",
   "execution_count": 113,
   "id": "115f0c5f",
   "metadata": {},
   "outputs": [
    {
     "data": {
      "text/plain": [
       "{1, 2.5, 3.1, 'Ammar'}"
      ]
     },
     "execution_count": 113,
     "metadata": {},
     "output_type": "execute_result"
    }
   ],
   "source": [
    "#discard or remove\n",
    "s1.discard (\"Condanics\")\n",
    "s1"
   ]
  },
  {
   "cell_type": "code",
   "execution_count": 114,
   "id": "1c05af85",
   "metadata": {},
   "outputs": [
    {
     "data": {
      "text/plain": [
       "set()"
      ]
     },
     "execution_count": 114,
     "metadata": {},
     "output_type": "execute_result"
    }
   ],
   "source": [
    "dif2 =s1.symmetric_difference(s2)\n",
    "dif2\n"
   ]
  },
  {
   "cell_type": "code",
   "execution_count": 124,
   "id": "025bf914",
   "metadata": {},
   "outputs": [
    {
     "data": {
      "text/plain": [
       "{1, 2.5, 3.1, 'Ammar'}"
      ]
     },
     "execution_count": 124,
     "metadata": {},
     "output_type": "execute_result"
    }
   ],
   "source": [
    "s1 = {1, 2.5, 3.1, 'Ammar'}\n",
    "s2 ={1, 2.5, 3.1, 'Rauf'}\n",
    "s1\n"
   ]
  },
  {
   "cell_type": "code",
   "execution_count": 123,
   "id": "046c7e0c",
   "metadata": {},
   "outputs": [
    {
     "data": {
      "text/plain": [
       "{1, 2.5, 3.1, 'Ammar', 'Rauf'}"
      ]
     },
     "execution_count": 123,
     "metadata": {},
     "output_type": "execute_result"
    }
   ],
   "source": [
    "dif3= s1.union(s2)\n",
    "dif3"
   ]
  },
  {
   "cell_type": "code",
   "execution_count": 126,
   "id": "7a5a620b",
   "metadata": {},
   "outputs": [
    {
     "data": {
      "text/plain": [
       "{1, 2.5, 3.1}"
      ]
     },
     "execution_count": 126,
     "metadata": {},
     "output_type": "execute_result"
    }
   ],
   "source": [
    "inter1= s1.intersection(s2)\n",
    "inter1"
   ]
  },
  {
   "cell_type": "code",
   "execution_count": 127,
   "id": "81efd0fe",
   "metadata": {},
   "outputs": [
    {
     "data": {
      "text/plain": [
       "{1, 2.5, 3.1, 'Ammar'}"
      ]
     },
     "execution_count": 127,
     "metadata": {},
     "output_type": "execute_result"
    }
   ],
   "source": [
    "s1"
   ]
  },
  {
   "cell_type": "code",
   "execution_count": 135,
   "id": "0aa5f112",
   "metadata": {},
   "outputs": [
    {
     "data": {
      "text/plain": [
       "{3.1, 'Rauf'}"
      ]
     },
     "execution_count": 135,
     "metadata": {},
     "output_type": "execute_result"
    }
   ],
   "source": [
    "s2.pop()\n",
    "s2"
   ]
  },
  {
   "cell_type": "code",
   "execution_count": 137,
   "id": "81715318",
   "metadata": {},
   "outputs": [
    {
     "data": {
      "text/plain": [
       "{1, 2.5, 3.1, 'Ammar', 'Rauf'}"
      ]
     },
     "execution_count": 137,
     "metadata": {},
     "output_type": "execute_result"
    }
   ],
   "source": [
    "s2={1, 2.5, 3.1, 'Ammar', 'Rauf'}\n",
    "s2"
   ]
  },
  {
   "cell_type": "code",
   "execution_count": 138,
   "id": "e17de267",
   "metadata": {},
   "outputs": [
    {
     "data": {
      "text/plain": [
       "{1, 2.5, 3.1, 'Ammar'}"
      ]
     },
     "execution_count": 138,
     "metadata": {},
     "output_type": "execute_result"
    }
   ],
   "source": [
    "s2.remove(\"Rauf\")\n",
    "s2"
   ]
  },
  {
   "cell_type": "code",
   "execution_count": null,
   "id": "ed9dcc24",
   "metadata": {},
   "outputs": [],
   "source": []
  }
 ],
 "metadata": {
  "kernelspec": {
   "display_name": "Python 3 (ipykernel)",
   "language": "python",
   "name": "python3"
  },
  "language_info": {
   "codemirror_mode": {
    "name": "ipython",
    "version": 3
   },
   "file_extension": ".py",
   "mimetype": "text/x-python",
   "name": "python",
   "nbconvert_exporter": "python",
   "pygments_lexer": "ipython3",
   "version": "3.9.7"
  }
 },
 "nbformat": 4,
 "nbformat_minor": 5
}
